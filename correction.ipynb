{
 "cells": [
  {
   "cell_type": "code",
   "execution_count": 3,
   "metadata": {},
   "outputs": [],
   "source": [
    "# !pip install ipywidgets"
   ]
  },
  {
   "cell_type": "code",
   "execution_count": 4,
   "metadata": {},
   "outputs": [],
   "source": [
    "import os\n",
    "import warnings\n",
    "import numpy as np\n",
    "from numpy.polynomial import Polynomial\n",
    "from scipy.optimize import curve_fit\n",
    "import seaborn as sb\n",
    "import matplotlib.pyplot as plt\n",
    "import pvl\n",
    "import ray\n",
    "\n",
    "warnings.filterwarnings(\"ignore\", message=\"Could not find isis. Is `ISISROOT` set?\")\n",
    "from pysis import CubeFile\n",
    "\n"
   ]
  },
  {
   "cell_type": "code",
   "execution_count": 7,
   "metadata": {},
   "outputs": [],
   "source": [
    "## Access files\n",
    "\n",
    "def fetch_d_from_lbl(filepath):\n",
    "    with open(filepath, 'r') as file:\n",
    "        lbl_data = pvl.load(file)\n",
    "\n",
    "    d_km = float(lbl_data['SPACECRAFT_SOLAR_DISTANCE'][0])\n",
    "    d_au = d_km / 149597870.7\n",
    "    \n",
    "    return d_au\n",
    "\n",
    "\n",
    "def mk_data_dict(directory):\n",
    "    all_files = [file for file in os.listdir(directory)]\n",
    "    if len(all_files) == 0:\n",
    "        return print(\"The directory is empty.\")\n",
    "    else:\n",
    "        cubefiles_dict = {}\n",
    "        for file in all_files:\n",
    "            if file.endswith('.cub') and '_phodata' not in file:\n",
    "                base_name = file.replace('.cub', '')\n",
    "\n",
    "                denoise_iof_file = f\"{base_name}_1_artifact_corrected.npy\"\n",
    "                denoised_directory = '/Data/sourav/Artifact_correction/Data/artifact-corrected/artifact-corrected-survey-ir-ceres-nasa-pds/'\n",
    "                denoised_iof_file_path = os.path.join(denoised_directory, denoise_iof_file)\n",
    "\n",
    "                lbl_file = f\"{base_name}_1.LBL\"\n",
    "                lbl_file_path = os.path.join(directory, lbl_file)\n",
    "\n",
    "                temp_emissivity_file = f\"{base_name}_temp_emissivity.npy\"\n",
    "                temp_emissivity_file_path = os.path.join(\"/Data/soumik_backup/survey_1b/clark_2/\", temp_emissivity_file)\n",
    "\n",
    "                cubefiles_dict[base_name] = {\n",
    "                    \"lbl_file\": lbl_file_path,\n",
    "                    \"iof_data\": denoised_iof_file_path,\n",
    "                    \"temp_e_data\": temp_emissivity_file_path,\n",
    "                }\n",
    "        if len(cubefiles_dict) == 0:\n",
    "            print(\"No cubefiles detected in the provided repository.\")\n",
    "        else:\n",
    "            print(str(len(cubefiles_dict)) + \" files has been mapped.\")\n",
    "\n",
    "        return cubefiles_dict\n",
    "\n",
    "\n",
    "def cubefile_to_numpy(imagefile):\n",
    "    image = CubeFile.open(imagefile)\n",
    "    image_datalist = image.apply_numpy_specials()\n",
    "    return image_datalist\n",
    "\n"
   ]
  },
  {
   "cell_type": "code",
   "execution_count": 12,
   "metadata": {},
   "outputs": [
    {
     "name": "stdout",
     "output_type": "stream",
     "text": [
      "183 files has been mapped.\n"
     ]
    }
   ],
   "source": [
    "source_directory = '/Data/soumik_backup/'\n",
    "\n",
    "data_directory = source_directory + 'survey_1b/cub_converted/'\n",
    "save_directory = source_directory + 'survey_1b/clark_corrected/'\n",
    "\n",
    "ss_data = np.loadtxt(source_directory+\"ss-ceres-dawn.txt\", delimiter='\\t', skiprows=1)\n",
    "\n",
    "wavelengths = ss_data[:, 0]\n",
    "solar_flux =  ss_data[:, 1]\n",
    "\n",
    "vir_corr_factor = np.loadtxt(source_directory+'VIR_correction_factor_IR.txt', delimiter=',', skiprows=1)\n",
    "\n",
    "survey_dict = mk_data_dict(data_directory)\n",
    "keys = [key for key in survey_dict.keys()]\n"
   ]
  },
  {
   "cell_type": "code",
   "execution_count": 13,
   "metadata": {},
   "outputs": [],
   "source": [
    "def blackbody_rad(wav,T):\n",
    "    c1 = 3.74177*(10**-16)          #2*const.pi*const.h*(const.c**2)            #3.7417718521927573e-16\n",
    "    c2 = 0.014387774                #const.c*const.h/const.Boltzmann            #0.014387768775039337\n",
    "\n",
    "    radiance= ((c1/((wav/(10**6))**5))*(1/(np.exp(c2/((wav*T)/(10**6)))-1)))/((10**6)*np.pi)\n",
    "    return radiance\n"
   ]
  },
  {
   "cell_type": "code",
   "execution_count": 15,
   "metadata": {},
   "outputs": [
    {
     "name": "stderr",
     "output_type": "stream",
     "text": [
      "2024-12-04 20:01:37,185\tINFO worker.py:1821 -- Started a local Ray instance.\n"
     ]
    },
    {
     "name": "stdout",
     "output_type": "stream",
     "text": [
      "\u001b[36m(process_key pid=462086)\u001b[0m Processing key: VIR_IR_1B_1_486795444\n"
     ]
    },
    {
     "name": "stderr",
     "output_type": "stream",
     "text": [
      "\u001b[36m(process_key pid=462087)\u001b[0m /tmp/ipykernel_460940/3635446409.py:5: RuntimeWarning: divide by zero encountered in divide\n"
     ]
    },
    {
     "name": "stdout",
     "output_type": "stream",
     "text": [
      "\u001b[36m(process_key pid=462086)\u001b[0m Saved corrected spectra for key: VIR_IR_1B_1_486795444 at /Data/soumik_backup/survey_1b/clark_corrected/VIR_IR_1B_1_486795444_clark_corrected.npy\n",
      "\u001b[36m(process_key pid=462104)\u001b[0m Processing key: VIR_IR_1B_1_488262321\u001b[32m [repeated 182x across cluster] (Ray deduplicates logs by default. Set RAY_DEDUP_LOGS=0 to disable log deduplication, or see https://docs.ray.io/en/master/ray-observability/user-guides/configure-logging.html#log-deduplication for more options.)\u001b[0m\n",
      "\u001b[36m(process_key pid=462109)\u001b[0m Saved corrected spectra for key: VIR_IR_1B_1_488257665 at /Data/soumik_backup/survey_1b/clark_corrected/VIR_IR_1B_1_488257665_clark_corrected.npy\u001b[32m [repeated 180x across cluster]\u001b[0m\n"
     ]
    },
    {
     "name": "stderr",
     "output_type": "stream",
     "text": [
      "\u001b[36m(process_key pid=462135)\u001b[0m /tmp/ipykernel_460940/3635446409.py:5: RuntimeWarning: divide by zero encountered in divide\u001b[32m [repeated 29x across cluster]\u001b[0m\n"
     ]
    }
   ],
   "source": [
    "ray.init(ignore_reinit_error=True, num_cpus=30)\n",
    "\n",
    "@ray.remote\n",
    "def process_key(key, survey_dict, wavelengths, solar_flux, save_directory):\n",
    "    print(f\"Processing key: {key}\")\n",
    "\n",
    "    iof_image = np.load(survey_dict[key]['iof_data'])\n",
    "    d_au = fetch_d_from_lbl(survey_dict[key]['lbl_file'])\n",
    "\n",
    "    clark_result = np.load(survey_dict[key]['temp_e_data'], allow_pickle=True).item()\n",
    "    temp = clark_result['fitted_temp']\n",
    "    emissivity = clark_result['fitted_emissivity']\n",
    "    temp_error = clark_result['temp_error']\n",
    "    emissivity_error = clark_result['emissivity_error']\n",
    "\n",
    "    thermal_rad = np.zeros(iof_image.shape)\n",
    "    thermal_ref = np.zeros(iof_image.shape)\n",
    "\n",
    "    for i in range(iof_image.shape[1]):\n",
    "        for j in range(iof_image.shape[2]):\n",
    "            thermal_rad[:, i, j] = emissivity[i, j] * blackbody_rad(wavelengths, temp[i, j])\n",
    "            thermal_ref[:, i, j] = thermal_rad[:, i, j] * np.pi * d_au**2 / solar_flux\n",
    "\n",
    "    corrected_spectra = iof_image - thermal_ref\n",
    "\n",
    "    filepath = f\"{save_directory}{key}_clark_corrected.npy\"\n",
    "    np.save(filepath, corrected_spectra)\n",
    "    print(f\"Saved corrected spectra for key: {key} at {filepath}\")\n",
    "\n",
    "tasks = [process_key.remote(key, survey_dict, wavelengths, solar_flux, save_directory) for key in keys]\n",
    "\n",
    "ray.get(tasks)\n",
    "\n",
    "ray.shutdown()\n"
   ]
  },
  {
   "cell_type": "code",
   "execution_count": null,
   "metadata": {},
   "outputs": [],
   "source": []
  }
 ],
 "metadata": {
  "kernelspec": {
   "display_name": "venv",
   "language": "python",
   "name": "python3"
  },
  "language_info": {
   "codemirror_mode": {
    "name": "ipython",
    "version": 3
   },
   "file_extension": ".py",
   "mimetype": "text/x-python",
   "name": "python",
   "nbconvert_exporter": "python",
   "pygments_lexer": "ipython3",
   "version": "3.9.18"
  }
 },
 "nbformat": 4,
 "nbformat_minor": 2
}
