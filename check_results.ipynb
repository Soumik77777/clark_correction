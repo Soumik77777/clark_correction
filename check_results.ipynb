{
 "cells": [
  {
   "cell_type": "code",
   "execution_count": 3,
   "metadata": {},
   "outputs": [],
   "source": [
    "import os\n",
    "import warnings\n",
    "import numpy as np\n",
    "from numpy.polynomial import Polynomial\n",
    "from scipy.optimize import curve_fit\n",
    "import seaborn as sb\n",
    "import matplotlib.pyplot as plt\n",
    "import pvl\n",
    "import ray\n",
    "\n",
    "warnings.filterwarnings(\"ignore\", message=\"Could not find isis. Is `ISISROOT` set?\")\n",
    "from pysis import CubeFile\n"
   ]
  },
  {
   "cell_type": "code",
   "execution_count": null,
   "metadata": {},
   "outputs": [
    {
     "name": "stdout",
     "output_type": "stream",
     "text": [
      "183 files has been mapped.\n"
     ]
    }
   ],
   "source": []
  },
  {
   "cell_type": "code",
   "execution_count": 14,
   "metadata": {},
   "outputs": [],
   "source": [
    "# for key in keys[5:10]:\n",
    "#     corrected_image = np.load(results_dict[key]['clark_corrected'])\n",
    "\n",
    "    # plt.plot(wavelengths, corrected_image[:, 38, 138])"
   ]
  },
  {
   "cell_type": "code",
   "execution_count": null,
   "metadata": {},
   "outputs": [],
   "source": []
  }
 ],
 "metadata": {
  "kernelspec": {
   "display_name": "venv",
   "language": "python",
   "name": "python3"
  },
  "language_info": {
   "codemirror_mode": {
    "name": "ipython",
    "version": 3
   },
   "file_extension": ".py",
   "mimetype": "text/x-python",
   "name": "python",
   "nbconvert_exporter": "python",
   "pygments_lexer": "ipython3",
   "version": "3.9.18"
  }
 },
 "nbformat": 4,
 "nbformat_minor": 2
}
